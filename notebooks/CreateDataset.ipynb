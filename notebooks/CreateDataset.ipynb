{
 "cells": [
  {
   "cell_type": "markdown",
   "metadata": {},
   "source": [
    "## 分類用データセット作成Notebook\n",
    "MovieLensには正例（実際にCVしたレコード）しか含まれていないためネガティブサンプルを作成する。   \n",
    "またTrain/Eval/Testで分割するときにtimestampでソートしてから適当な数で分割することとしている（今回はTrain:Eval:Test=7:2:1ぐらいの比率で分割）"
   ]
  },
  {
   "cell_type": "code",
   "execution_count": 8,
   "metadata": {},
   "outputs": [],
   "source": [
    "import random\n",
    "from time import time\n",
    "import numpy as np\n",
    "import pandas as pd"
   ]
  },
  {
   "cell_type": "code",
   "execution_count": 9,
   "metadata": {},
   "outputs": [],
   "source": [
    "data_set_file_path = '/Users/fumiyo_ito/Documents/git/Wide-Deep/data/MovieLens20M/'"
   ]
  },
  {
   "cell_type": "markdown",
   "metadata": {},
   "source": [
    "元データの読み込み"
   ]
  },
  {
   "cell_type": "code",
   "execution_count": 11,
   "metadata": {},
   "outputs": [
    {
     "data": {
      "text/html": [
       "<div>\n",
       "<style scoped>\n",
       "    .dataframe tbody tr th:only-of-type {\n",
       "        vertical-align: middle;\n",
       "    }\n",
       "\n",
       "    .dataframe tbody tr th {\n",
       "        vertical-align: top;\n",
       "    }\n",
       "\n",
       "    .dataframe thead th {\n",
       "        text-align: right;\n",
       "    }\n",
       "</style>\n",
       "<table border=\"1\" class=\"dataframe\">\n",
       "  <thead>\n",
       "    <tr style=\"text-align: right;\">\n",
       "      <th></th>\n",
       "      <th>user</th>\n",
       "      <th>item</th>\n",
       "      <th>rating</th>\n",
       "      <th>timestamp</th>\n",
       "    </tr>\n",
       "  </thead>\n",
       "  <tbody>\n",
       "    <tr>\n",
       "      <th>0</th>\n",
       "      <td>1</td>\n",
       "      <td>2</td>\n",
       "      <td>3.5</td>\n",
       "      <td>2005-04-02 23:53:47</td>\n",
       "    </tr>\n",
       "    <tr>\n",
       "      <th>1</th>\n",
       "      <td>1</td>\n",
       "      <td>29</td>\n",
       "      <td>3.5</td>\n",
       "      <td>2005-04-02 23:31:16</td>\n",
       "    </tr>\n",
       "    <tr>\n",
       "      <th>2</th>\n",
       "      <td>1</td>\n",
       "      <td>32</td>\n",
       "      <td>3.5</td>\n",
       "      <td>2005-04-02 23:33:39</td>\n",
       "    </tr>\n",
       "    <tr>\n",
       "      <th>3</th>\n",
       "      <td>1</td>\n",
       "      <td>47</td>\n",
       "      <td>3.5</td>\n",
       "      <td>2005-04-02 23:32:07</td>\n",
       "    </tr>\n",
       "    <tr>\n",
       "      <th>4</th>\n",
       "      <td>1</td>\n",
       "      <td>50</td>\n",
       "      <td>3.5</td>\n",
       "      <td>2005-04-02 23:29:40</td>\n",
       "    </tr>\n",
       "  </tbody>\n",
       "</table>\n",
       "</div>"
      ],
      "text/plain": [
       "   user  item  rating            timestamp\n",
       "0     1     2     3.5  2005-04-02 23:53:47\n",
       "1     1    29     3.5  2005-04-02 23:31:16\n",
       "2     1    32     3.5  2005-04-02 23:33:39\n",
       "3     1    47     3.5  2005-04-02 23:32:07\n",
       "4     1    50     3.5  2005-04-02 23:29:40"
      ]
     },
     "execution_count": 11,
     "metadata": {},
     "output_type": "execute_result"
    }
   ],
   "source": [
    "rec_dataset = pd.read_csv(data_set_file_path + 'rating.csv', names=['user','item','rating','timestamp'], skiprows=1)\n",
    "#rec_dataset = pd.read_csv('../data/u.data', sep='\\t',\n",
    "                         #header=None,\n",
    "                         #names=['user','item','rating','timestamp'])\n",
    "rec_dataset.head()"
   ]
  },
  {
   "cell_type": "code",
   "execution_count": 12,
   "metadata": {},
   "outputs": [
    {
     "name": "stdout",
     "output_type": "stream",
     "text": [
      "Dataset size: 20000263\n"
     ]
    }
   ],
   "source": [
    "print('Dataset size: {}'.format(len(rec_dataset)))"
   ]
  },
  {
   "cell_type": "markdown",
   "metadata": {},
   "source": [
    "以下のデータ数でサンプルを作成する（以下はそれぞれの数字／実際はこれの倍の大きさ）   \n",
    "\n",
    "- MovieLens20M\n",
    "    - Train: 14,000,000    \n",
    "    - Eval: 4,000,000    \n",
    "    - Test: 2,000,263\n",
    "- MovieLens100k\n",
    "    - Train: 70,000\n",
    "    - Eval: 20,000\n",
    "    - TestL 10,000"
   ]
  },
  {
   "cell_type": "markdown",
   "metadata": {},
   "source": [
    "### ユーザ・アイテムの組み合わせを適当に作成する関数   \n",
    "ユーザ・アイテムの辞書を作成しておき、適当に作成された組み合わせがその中に存在していなければリストに加えるというもの。   \n",
    "ここで作成したリストはあとでDataFrameに変換する"
   ]
  },
  {
   "cell_type": "code",
   "execution_count": 13,
   "metadata": {},
   "outputs": [],
   "source": [
    "def create_random_combinations(df):\n",
    "    pos_set = set(df.iloc[:,:2].itertuples(index=False, name=None))\n",
    "    user_list = df.user.unique()\n",
    "    item_list = df.item.unique()\n",
    "    neg_user = []\n",
    "    neg_item = []\n",
    "    \n",
    "    while len(neg_user) < len(df):\n",
    "        new_user = random.choice(user_list)\n",
    "        new_item = random.choice(item_list)\n",
    "        new_sample = (new_user, new_item)\n",
    "        if new_sample not in pos_set:\n",
    "            neg_user.append(new_user)\n",
    "            neg_item.append(new_item)\n",
    "    return neg_user, neg_item"
   ]
  },
  {
   "cell_type": "code",
   "execution_count": 14,
   "metadata": {},
   "outputs": [
    {
     "name": "stdout",
     "output_type": "stream",
     "text": [
      "86.7178 seconds elapsed\n"
     ]
    }
   ],
   "source": [
    "t1 = time()\n",
    "neg_user, neg_item = create_random_combinations(rec_dataset)\n",
    "t2 = time()\n",
    "print('{:.4f} seconds elapsed'.format(t2-t1))"
   ]
  },
  {
   "cell_type": "code",
   "execution_count": 15,
   "metadata": {},
   "outputs": [
    {
     "data": {
      "text/html": [
       "<div>\n",
       "<style scoped>\n",
       "    .dataframe tbody tr th:only-of-type {\n",
       "        vertical-align: middle;\n",
       "    }\n",
       "\n",
       "    .dataframe tbody tr th {\n",
       "        vertical-align: top;\n",
       "    }\n",
       "\n",
       "    .dataframe thead th {\n",
       "        text-align: right;\n",
       "    }\n",
       "</style>\n",
       "<table border=\"1\" class=\"dataframe\">\n",
       "  <thead>\n",
       "    <tr style=\"text-align: right;\">\n",
       "      <th></th>\n",
       "      <th>user</th>\n",
       "      <th>item</th>\n",
       "      <th>rating</th>\n",
       "    </tr>\n",
       "  </thead>\n",
       "  <tbody>\n",
       "    <tr>\n",
       "      <th>0</th>\n",
       "      <td>58725.0</td>\n",
       "      <td>27751.0</td>\n",
       "      <td>0.0</td>\n",
       "    </tr>\n",
       "    <tr>\n",
       "      <th>1</th>\n",
       "      <td>8539.0</td>\n",
       "      <td>6626.0</td>\n",
       "      <td>0.0</td>\n",
       "    </tr>\n",
       "    <tr>\n",
       "      <th>2</th>\n",
       "      <td>73551.0</td>\n",
       "      <td>55245.0</td>\n",
       "      <td>0.0</td>\n",
       "    </tr>\n",
       "    <tr>\n",
       "      <th>3</th>\n",
       "      <td>101245.0</td>\n",
       "      <td>90568.0</td>\n",
       "      <td>0.0</td>\n",
       "    </tr>\n",
       "    <tr>\n",
       "      <th>4</th>\n",
       "      <td>80650.0</td>\n",
       "      <td>31545.0</td>\n",
       "      <td>0.0</td>\n",
       "    </tr>\n",
       "  </tbody>\n",
       "</table>\n",
       "</div>"
      ],
      "text/plain": [
       "       user     item  rating\n",
       "0   58725.0  27751.0     0.0\n",
       "1    8539.0   6626.0     0.0\n",
       "2   73551.0  55245.0     0.0\n",
       "3  101245.0  90568.0     0.0\n",
       "4   80650.0  31545.0     0.0"
      ]
     },
     "execution_count": 15,
     "metadata": {},
     "output_type": "execute_result"
    }
   ],
   "source": [
    "neg_df = pd.DataFrame(np.concatenate([np.array(neg_user).reshape(-1,1),\n",
    "                         np.array(neg_item).reshape(-1,1),\n",
    "                         np.zeros(len(neg_user)).reshape(-1,1)\n",
    "                        ], axis=1),\n",
    "                      columns=['user','item','rating'])\n",
    "\n",
    "neg_df.head()"
   ]
  },
  {
   "cell_type": "code",
   "execution_count": 16,
   "metadata": {},
   "outputs": [
    {
     "data": {
      "text/html": [
       "<div>\n",
       "<style scoped>\n",
       "    .dataframe tbody tr th:only-of-type {\n",
       "        vertical-align: middle;\n",
       "    }\n",
       "\n",
       "    .dataframe tbody tr th {\n",
       "        vertical-align: top;\n",
       "    }\n",
       "\n",
       "    .dataframe thead th {\n",
       "        text-align: right;\n",
       "    }\n",
       "</style>\n",
       "<table border=\"1\" class=\"dataframe\">\n",
       "  <thead>\n",
       "    <tr style=\"text-align: right;\">\n",
       "      <th></th>\n",
       "      <th>user</th>\n",
       "      <th>item</th>\n",
       "      <th>rating</th>\n",
       "    </tr>\n",
       "  </thead>\n",
       "  <tbody>\n",
       "    <tr>\n",
       "      <th>0</th>\n",
       "      <td>58725</td>\n",
       "      <td>27751</td>\n",
       "      <td>0</td>\n",
       "    </tr>\n",
       "    <tr>\n",
       "      <th>1</th>\n",
       "      <td>8539</td>\n",
       "      <td>6626</td>\n",
       "      <td>0</td>\n",
       "    </tr>\n",
       "    <tr>\n",
       "      <th>2</th>\n",
       "      <td>73551</td>\n",
       "      <td>55245</td>\n",
       "      <td>0</td>\n",
       "    </tr>\n",
       "    <tr>\n",
       "      <th>3</th>\n",
       "      <td>101245</td>\n",
       "      <td>90568</td>\n",
       "      <td>0</td>\n",
       "    </tr>\n",
       "    <tr>\n",
       "      <th>4</th>\n",
       "      <td>80650</td>\n",
       "      <td>31545</td>\n",
       "      <td>0</td>\n",
       "    </tr>\n",
       "  </tbody>\n",
       "</table>\n",
       "</div>"
      ],
      "text/plain": [
       "     user   item  rating\n",
       "0   58725  27751       0\n",
       "1    8539   6626       0\n",
       "2   73551  55245       0\n",
       "3  101245  90568       0\n",
       "4   80650  31545       0"
      ]
     },
     "execution_count": 16,
     "metadata": {},
     "output_type": "execute_result"
    }
   ],
   "source": [
    "# データ型を整える\n",
    "neg_df.iloc[:,0] = neg_df.iloc[:,0].map(int).map(str)\n",
    "neg_df.iloc[:,1] = neg_df.iloc[:,1].map(int).map(str)\n",
    "neg_df.iloc[:,2] = neg_df.iloc[:,2].map(int)\n",
    "neg_df.head()\n"
   ]
  },
  {
   "cell_type": "code",
   "execution_count": 17,
   "metadata": {},
   "outputs": [
    {
     "data": {
      "text/html": [
       "<div>\n",
       "<style scoped>\n",
       "    .dataframe tbody tr th:only-of-type {\n",
       "        vertical-align: middle;\n",
       "    }\n",
       "\n",
       "    .dataframe tbody tr th {\n",
       "        vertical-align: top;\n",
       "    }\n",
       "\n",
       "    .dataframe thead th {\n",
       "        text-align: right;\n",
       "    }\n",
       "</style>\n",
       "<table border=\"1\" class=\"dataframe\">\n",
       "  <thead>\n",
       "    <tr style=\"text-align: right;\">\n",
       "      <th></th>\n",
       "      <th>user</th>\n",
       "      <th>item</th>\n",
       "      <th>rating</th>\n",
       "    </tr>\n",
       "  </thead>\n",
       "  <tbody>\n",
       "    <tr>\n",
       "      <th>4182421</th>\n",
       "      <td>28507</td>\n",
       "      <td>1176</td>\n",
       "      <td>1</td>\n",
       "    </tr>\n",
       "    <tr>\n",
       "      <th>18950979</th>\n",
       "      <td>131160</td>\n",
       "      <td>1079</td>\n",
       "      <td>1</td>\n",
       "    </tr>\n",
       "    <tr>\n",
       "      <th>18950936</th>\n",
       "      <td>131160</td>\n",
       "      <td>47</td>\n",
       "      <td>1</td>\n",
       "    </tr>\n",
       "    <tr>\n",
       "      <th>18950930</th>\n",
       "      <td>131160</td>\n",
       "      <td>21</td>\n",
       "      <td>1</td>\n",
       "    </tr>\n",
       "    <tr>\n",
       "      <th>12341178</th>\n",
       "      <td>85252</td>\n",
       "      <td>45</td>\n",
       "      <td>1</td>\n",
       "    </tr>\n",
       "  </tbody>\n",
       "</table>\n",
       "</div>"
      ],
      "text/plain": [
       "            user  item  rating\n",
       "4182421    28507  1176       1\n",
       "18950979  131160  1079       1\n",
       "18950936  131160    47       1\n",
       "18950930  131160    21       1\n",
       "12341178   85252    45       1"
      ]
     },
     "execution_count": 17,
     "metadata": {},
     "output_type": "execute_result"
    }
   ],
   "source": [
    "# 元のデータをpositiveデータとするためratingを1.0に変更しdf化\n",
    "\n",
    "pos_df = rec_dataset.sort_values('timestamp').iloc[:,:3]\n",
    "del rec_dataset\n",
    "\n",
    "# データ型を整える\n",
    "pos_df.iloc[:,0] = pos_df.iloc[:,0].map(int).map(str)\n",
    "pos_df.iloc[:,1] = pos_df.iloc[:,1].map(int).map(str)\n",
    "pos_df.iloc[:,2] = pos_df.iloc[:,2].map(int)\n",
    "pos_df.loc[:,'rating'] = 1\n",
    "\n",
    "pos_df.head()\n"
   ]
  },
  {
   "cell_type": "code",
   "execution_count": 18,
   "metadata": {},
   "outputs": [],
   "source": [
    "# Train用のデータセット作成\n",
    "train_file_name = data_set_file_path + 'train100k.csv'\n",
    "pos_df_train = pos_df.iloc[:14000000,:]\n",
    "neg_df_train = neg_df.iloc[:14000000,:]\n",
    "\n",
    "# 特に意味はないが固まっているのが気になるためランダムソートしている\n",
    "dataset_train = pd.concat([pos_df_train, neg_df_train], axis=0).sample(frac=1).reset_index(drop=True)\n",
    "dataset_train.to_csv(train_file_name, index=None)\n"
   ]
  },
  {
   "cell_type": "code",
   "execution_count": 19,
   "metadata": {},
   "outputs": [],
   "source": [
    "# Eval用のデータセット作成\n",
    "eval_file_name = data_set_file_path + 'eval100k.csv'\n",
    "pos_df_eval = pos_df.iloc[14000000:18000000,:]\n",
    "neg_df_eval = neg_df.iloc[14000000:18000000,:]\n",
    "\n",
    "dataset_eval = pd.concat([pos_df_eval, neg_df_eval], axis=0).sample(frac=1).reset_index(drop=True)\n",
    "dataset_eval.to_csv(eval_file_name, index=None)\n"
   ]
  },
  {
   "cell_type": "code",
   "execution_count": 20,
   "metadata": {},
   "outputs": [],
   "source": [
    "# Test用のデータセット作成\n",
    "test_file_name = data_set_file_path + 'test100k.csv'\n",
    "pos_df_test = pos_df.iloc[18000000:,:]\n",
    "neg_df_test = neg_df.iloc[18000000:,:]\n",
    "\n",
    "dataset_test = pd.concat([pos_df_test, neg_df_test], axis=0).sample(frac=1).reset_index(drop=True)\n",
    "dataset_test.to_csv(test_file_name, index=None)\n"
   ]
  },
  {
   "cell_type": "code",
   "execution_count": 21,
   "metadata": {},
   "outputs": [
    {
     "name": "stdout",
     "output_type": "stream",
     "text": [
      "Dataset size: 4000526\n",
      "user      int64\n",
      "item      int64\n",
      "rating    int64\n",
      "dtype: object\n"
     ]
    },
    {
     "data": {
      "text/html": [
       "<div>\n",
       "<style scoped>\n",
       "    .dataframe tbody tr th:only-of-type {\n",
       "        vertical-align: middle;\n",
       "    }\n",
       "\n",
       "    .dataframe tbody tr th {\n",
       "        vertical-align: top;\n",
       "    }\n",
       "\n",
       "    .dataframe thead th {\n",
       "        text-align: right;\n",
       "    }\n",
       "</style>\n",
       "<table border=\"1\" class=\"dataframe\">\n",
       "  <thead>\n",
       "    <tr style=\"text-align: right;\">\n",
       "      <th></th>\n",
       "      <th>user</th>\n",
       "      <th>item</th>\n",
       "      <th>rating</th>\n",
       "    </tr>\n",
       "  </thead>\n",
       "  <tbody>\n",
       "    <tr>\n",
       "      <th>0</th>\n",
       "      <td>10765</td>\n",
       "      <td>2115</td>\n",
       "      <td>1</td>\n",
       "    </tr>\n",
       "    <tr>\n",
       "      <th>1</th>\n",
       "      <td>129611</td>\n",
       "      <td>57669</td>\n",
       "      <td>1</td>\n",
       "    </tr>\n",
       "    <tr>\n",
       "      <th>2</th>\n",
       "      <td>10989</td>\n",
       "      <td>2218</td>\n",
       "      <td>0</td>\n",
       "    </tr>\n",
       "    <tr>\n",
       "      <th>3</th>\n",
       "      <td>19571</td>\n",
       "      <td>73480</td>\n",
       "      <td>0</td>\n",
       "    </tr>\n",
       "    <tr>\n",
       "      <th>4</th>\n",
       "      <td>112502</td>\n",
       "      <td>78064</td>\n",
       "      <td>0</td>\n",
       "    </tr>\n",
       "  </tbody>\n",
       "</table>\n",
       "</div>"
      ],
      "text/plain": [
       "     user   item  rating\n",
       "0   10765   2115       1\n",
       "1  129611  57669       1\n",
       "2   10989   2218       0\n",
       "3   19571  73480       0\n",
       "4  112502  78064       0"
      ]
     },
     "execution_count": 21,
     "metadata": {},
     "output_type": "execute_result"
    }
   ],
   "source": [
    "# 中身の確認\n",
    "filename = test_file_name\n",
    "check_df = pd.read_csv(filename)\n",
    "print('Dataset size: {}'.format(len(check_df)))\n",
    "print(check_df.dtypes)\n",
    "check_df.head()"
   ]
  },
  {
   "cell_type": "code",
   "execution_count": 22,
   "metadata": {},
   "outputs": [],
   "source": [
    "# 目的変数がstrでなければならない場合があるため一旦別ファイルを作成\n",
    "# 入っているレコードは同じ\n",
    "train_file_name = data_set_file_path + 'train100k.csv'\n",
    "train_file_name_str = data_set_file_path + 'train100k.csv'\n",
    "tmp_df = pd.read_csv(train_file_name)\n",
    "tmp_df.iloc[:,-1] = tmp_df.iloc[:,-1].map(str)\n",
    "tmp_df.to_csv(train_file_name_str, index=None)"
   ]
  },
  {
   "cell_type": "code",
   "execution_count": 23,
   "metadata": {},
   "outputs": [],
   "source": [
    "# Eval\n",
    "eval_file_name = data_set_file_path + 'eval100k.csv'\n",
    "eval_file_name_str = data_set_file_path + '/eval100k.csv'\n",
    "tmp_df = pd.read_csv(eval_file_name)\n",
    "tmp_df.iloc[:,-1] = tmp_df.iloc[:,-1].map(str)\n",
    "tmp_df.to_csv(eval_file_name_str, index=None)"
   ]
  },
  {
   "cell_type": "code",
   "execution_count": 24,
   "metadata": {},
   "outputs": [],
   "source": [
    "# Test\n",
    "test_file_name = data_set_file_path + '/test100k.csv'\n",
    "test_file_name_str = data_set_file_path + '/test100k.csv'\n",
    "tmp_df = pd.read_csv(test_file_name)\n",
    "tmp_df.iloc[:,-1] = tmp_df.iloc[:,-1].map(str)\n",
    "tmp_df.to_csv(test_file_name_str, index=None)"
   ]
  },
  {
   "cell_type": "code",
   "execution_count": null,
   "metadata": {},
   "outputs": [],
   "source": []
  }
 ],
 "metadata": {
  "kernelspec": {
   "display_name": "Python 3",
   "language": "python",
   "name": "python3"
  },
  "language_info": {
   "codemirror_mode": {
    "name": "ipython",
    "version": 3
   },
   "file_extension": ".py",
   "mimetype": "text/x-python",
   "name": "python",
   "nbconvert_exporter": "python",
   "pygments_lexer": "ipython3",
   "version": "3.7.3"
  }
 },
 "nbformat": 4,
 "nbformat_minor": 2
}
